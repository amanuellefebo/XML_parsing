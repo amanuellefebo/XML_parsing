{
 "cells": [
  {
   "cell_type": "code",
   "execution_count": 2,
   "id": "7eb5b987-136d-4659-adea-9fbd0955f787",
   "metadata": {},
   "outputs": [],
   "source": [
    "import pandas as pd\n",
    "import numpy as np\n",
    "import csv\n",
    "import xml.dom.minidom"
   ]
  },
  {
   "cell_type": "code",
   "execution_count": 3,
   "id": "f34e6e11-f6b4-4623-95d4-c4637f5550d4",
   "metadata": {},
   "outputs": [],
   "source": [
    "domtree = xml.dom.minidom.parse(r\"C:\\Users\\ritaj\\OneDrive\\Desktop\\Work exam\\IR21 (2)\\IR21\\IR21_SWEEP_Telenor Sweden_20231206135254.xml\")"
   ]
  },
  {
   "cell_type": "code",
   "execution_count": 4,
   "id": "36899593-086c-446c-bee0-b10a4fff8000",
   "metadata": {},
   "outputs": [],
   "source": [
    "group = domtree.documentElement"
   ]
  },
  {
   "cell_type": "markdown",
   "id": "aee7538f-32ef-4566-bb7b-776dabef4329",
   "metadata": {},
   "source": [
    "1.Help to generate the MCC and MNC code related to the Tadig code\n",
    "It create an mss_code.csv which store the value of MSC and MNC code which is mapped to the TADIG Code.\n",
    "It do have 230 output for four TADIG code"
   ]
  },
  {
   "cell_type": "code",
   "execution_count": 5,
   "id": "59ab166c-aa59-400d-b8d9-99796e9b7c24",
   "metadata": {},
   "outputs": [],
   "source": [
    "def mssc_code():\n",
    "    Tadigs= group.getElementsByTagName('TADIGSummaryItem')\n",
    "    \n",
    "    with open('mss_code.csv', 'w', newline='') as csvfile:\n",
    "        csvwriter = csv.writer(csvfile)\n",
    "        \n",
    "        csvwriter.writerow(['TADIG Code', 'MCC', 'MNC'])\n",
    "        \n",
    "        for x in Tadigs:\n",
    "            tadig_code = x.getElementsByTagName(\"TADIGCode\")[0].childNodes[0].nodeValue\n",
    "            y = x.getElementsByTagName('NetworkProperties')\n",
    "            \n",
    "            for h in y:\n",
    "                tadig_code = x.getElementsByTagName(\"TADIGCode\")[0].childNodes[0].nodeValue\n",
    "                MCC = h.getElementsByTagName(\"MCC\")[0].childNodes[0].nodeValue\n",
    "                MNC = h.getElementsByTagName(\"MNC\")[0].childNodes[0].nodeValue\n",
    "                \n",
    "                csvwriter.writerow([tadig_code, MCC, MNC])\n",
    "                print(\"tadig_code:%s,MCC:%s,MNC:%s\" % (tadig_code, MCC, MNC))"
   ]
  },
  {
   "cell_type": "code",
   "execution_count": 6,
   "id": "ebd24d42-eb6e-4e4f-9119-2a5a8414c206",
   "metadata": {},
   "outputs": [
    {
     "name": "stdout",
     "output_type": "stream",
     "text": [
      "tadig_code:SWEEP,MCC:240,MNC:08\n",
      "tadig_code:SWEEP,MCC:240,MNC:08\n",
      "tadig_code:SWETG,MCC:240,MNC:06\n",
      "tadig_code:SWECN,MCC:240,MNC:42\n",
      "tadig_code:AAZTC,MCC:883,MNC:120\n",
      "tadig_code:AAZTC,MCC:901,MNC:029\n",
      "tadig_code:AAZTC,MCC:240,MNC:042\n"
     ]
    }
   ],
   "source": [
    "mssc_code()"
   ]
  },
  {
   "cell_type": "markdown",
   "id": "684c51c8-dd2a-4915-9f5b-1175b415bbb1",
   "metadata": {},
   "source": [
    "2.Help to generate the MSISDN_NumberRanges file and save it as a csv file.\n",
    "        "
   ]
  },
  {
   "cell_type": "code",
   "execution_count": 9,
   "id": "067d5543-7775-45cb-8e76-d83b3ad93110",
   "metadata": {},
   "outputs": [],
   "source": [
    "def MSISDN():\n",
    "    set=group.getElementsByTagName('Network')\n",
    "    with open('MSISDN_NumberRanges.csv', 'w', newline='') as csvfile:\n",
    "        csvwriter = csv.writer(csvfile)\n",
    "        csvwriter.writerow(['TADIG Code', 'CC', 'NDC','range_start','range_end'])\n",
    "        for category in set:\n",
    "            sub=category.getElementsByTagName('MSISDN_NumberRanges')\n",
    "            tadig_code=category.getElementsByTagName(\"TADIGCode\")[0].childNodes[0].nodeValue\n",
    "            for subs in sub:\n",
    "                sb2=subs.getElementsByTagName('RangeData')\n",
    "                for sb3 in sb2:\n",
    "                    sb4=sb3.getElementsByTagName('NumberRange')\n",
    "                    for sb5 in sb4:\n",
    "                        CC=sb5.getElementsByTagName(\"CC\")[0].childNodes[0].nodeValue\n",
    "                        NDC=sb5.getElementsByTagName(\"NDC\")[0].childNodes[0].nodeValue\n",
    "                        h=sb5.getElementsByTagName(\"SN_Range\")\n",
    "                        for sb6 in h:\n",
    "                            range_start=sb6.getElementsByTagName(\"SN_RangeStart\")[0].childNodes[0].nodeValue\n",
    "                            range_end=sb6.getElementsByTagName(\"SN_RangeStop\")[0].childNodes[0].nodeValue\n",
    "                            csvwriter.writerow([tadig_code,CC,NDC,range_start,range_end])\n",
    "                            print(\"Tadig_code:% s,CC:% s,NDC:% s,range_start:% s,range_end:% s\"%(tadig_code,CC,NDC,range_start,range_end))\n",
    "        "
   ]
  },
  {
   "cell_type": "code",
   "execution_count": null,
   "id": "cca897eb-1a1f-4f5a-b708-b986dd22fe27",
   "metadata": {},
   "outputs": [],
   "source": [
    "MSISDN()"
   ]
  },
  {
   "cell_type": "markdown",
   "id": "2f8a870c-00b5-4cac-969a-4c7e1a32e365",
   "metadata": {},
   "source": [
    "3.Help to generate the GT_NumberRanges.csv file and save it as a csv file.\n",
    "We have 5 total number of row for the four TADIG code"
   ]
  },
  {
   "cell_type": "code",
   "execution_count": 14,
   "id": "8cfc9568-35a0-4156-b5eb-1c69aec8a8d8",
   "metadata": {},
   "outputs": [],
   "source": [
    "def GT_NumberRanges():\n",
    "    set=group.getElementsByTagName('Network')\n",
    "    with open('GT_NumberRanges.csv', 'w', newline='') as csvfile:\n",
    "        csvwriter = csv.writer(csvfile)\n",
    "        csvwriter.writerow(['TADIG Code', 'CC', 'NDC','range_start','range_end'])\n",
    "        for category in set:\n",
    "            sub=category.getElementsByTagName('GT_NumberRanges')\n",
    "            tadig_code=category.getElementsByTagName(\"TADIGCode\")[0].childNodes[0].nodeValue\n",
    "            for subs in sub:\n",
    "                sb2=subs.getElementsByTagName('RangeData')\n",
    "                for sb3 in sb2:\n",
    "                    sb4=sb3.getElementsByTagName('NumberRange')\n",
    "                    for sb5 in sb4:\n",
    "                        CC=sb5.getElementsByTagName(\"CC\")[0].childNodes[0].nodeValue\n",
    "                        NDC=sb5.getElementsByTagName(\"NDC\")[0].childNodes[0].nodeValue\n",
    "                        h=sb5.getElementsByTagName(\"SN_Range\")\n",
    "                        for sb6 in h:\n",
    "                            range_start=sb6.getElementsByTagName(\"SN_RangeStart\")[0].childNodes[0].nodeValue\n",
    "                            range_end=sb6.getElementsByTagName(\"SN_RangeStop\")[0].childNodes[0].nodeValue\n",
    "                            csvwriter.writerow([tadig_code,CC,NDC,range_start,range_end])\n",
    "                            print(\"Tadig_code:% s,CC:% s,NDC:% s,range_start:% s,range_end:% s\"%(tadig_code,CC,NDC,range_start,range_end))"
   ]
  },
  {
   "cell_type": "code",
   "execution_count": 15,
   "id": "aa224efe-fe07-42ac-b2a6-c8556f819598",
   "metadata": {},
   "outputs": [
    {
     "name": "stdout",
     "output_type": "stream",
     "text": [
      "Tadig_code:SWEEP,CC:46,NDC:708,range_start:000000,range_end:999999\n",
      "Tadig_code:SWETG,CC:46,NDC:72390,range_start:0000,range_end:9999\n",
      "Tadig_code:SWETG,CC:46,NDC:7244,range_start:00000,range_end:99999\n",
      "Tadig_code:SWECN,CC:46,NDC:731,range_start:260000,range_end:269999\n",
      "Tadig_code:AAZTC,CC:883,NDC:120,range_start:000000,range_end:999999\n"
     ]
    }
   ],
   "source": [
    "GT_NumberRanges()"
   ]
  },
  {
   "cell_type": "markdown",
   "id": "45428e28-cbc2-4b7d-8739-c2efdfbdc53e",
   "metadata": {},
   "source": [
    "4.Help to generate the MSRN_NumberRanges file and save it as a csv file.\n",
    "we have 5 total number of rows for the four TADIG Code"
   ]
  },
  {
   "cell_type": "code",
   "execution_count": 18,
   "id": "80541c5c-1330-4f1f-a23d-36142d9823d1",
   "metadata": {},
   "outputs": [],
   "source": [
    "def MSRN_NumberRanges():\n",
    "    set=group.getElementsByTagName('Network')\n",
    "    with open('MSRN_NumberRanges.csv', 'w', newline='') as csvfile:\n",
    "        csvwriter = csv.writer(csvfile)\n",
    "        csvwriter.writerow(['TADIG Code', 'CC', 'NDC','range_start','range_end'])\n",
    "        for category in set:\n",
    "            sub=category.getElementsByTagName('MSRN_NumberRanges')\n",
    "            tadig_code=category.getElementsByTagName(\"TADIGCode\")[0].childNodes[0].nodeValue\n",
    "            for subs in sub:\n",
    "                sb2=subs.getElementsByTagName('RangeData')\n",
    "                for sb3 in sb2:\n",
    "                    sb4=sb3.getElementsByTagName('NumberRange')\n",
    "                    for sb5 in sb4:\n",
    "                        CC=sb5.getElementsByTagName(\"CC\")[0].childNodes[0].nodeValue\n",
    "                        NDC=sb5.getElementsByTagName(\"NDC\")[0].childNodes[0].nodeValue\n",
    "                        h=sb5.getElementsByTagName(\"SN_Range\")\n",
    "                        for sb6 in h:\n",
    "                            range_start=sb6.getElementsByTagName(\"SN_RangeStart\")[0].childNodes[0].nodeValue\n",
    "                            range_end=sb6.getElementsByTagName(\"SN_RangeStop\")[0].childNodes[0].nodeValue\n",
    "                            csvwriter.writerow([tadig_code,CC,NDC,range_start,range_end])\n",
    "                            print(\"Tadig_code:% s,CC:% s,NDC:% s,range_start:% s,range_end:% s\"%(tadig_code,CC,NDC,range_start,range_end))"
   ]
  },
  {
   "cell_type": "code",
   "execution_count": 20,
   "id": "b6871e4e-32e4-4982-9994-6efc612e7ed8",
   "metadata": {},
   "outputs": [
    {
     "name": "stdout",
     "output_type": "stream",
     "text": [
      "Tadig_code:SWEEP,CC:46,NDC:70801,range_start:0000,range_end:9999\n",
      "Tadig_code:SWEEP,CC:46,NDC:70802,range_start:0000,range_end:9999\n",
      "Tadig_code:SWEEP,CC:46,NDC:70803,range_start:0000,range_end:9999\n",
      "Tadig_code:SWEEP,CC:46,NDC:70804,range_start:0000,range_end:9999\n",
      "Tadig_code:AAZTC,CC:883,NDC:120,range_start:000000,range_end:999999\n"
     ]
    }
   ],
   "source": [
    "MSRN_NumberRanges()"
   ]
  },
  {
   "cell_type": "markdown",
   "id": "450493a9-23a5-4853-9b30-1c7afc88aad4",
   "metadata": {},
   "source": [
    "5.Let us collect all data frame as one.\n",
    "The GT_Number range,MSISDN,MSRN file are merged together with concat function."
   ]
  },
  {
   "cell_type": "code",
   "execution_count": 43,
   "id": "968067c2-bbc7-4f6c-908e-278fb76a92f2",
   "metadata": {},
   "outputs": [],
   "source": [
    "df1=pd.read_csv('MSISDN_NumberRanges.csv')"
   ]
  },
  {
   "cell_type": "code",
   "execution_count": 44,
   "id": "04deb265-81f2-433b-b82a-374608b4c951",
   "metadata": {},
   "outputs": [],
   "source": [
    "df2=pd.read_csv('MSRN_NumberRanges.csv')"
   ]
  },
  {
   "cell_type": "code",
   "execution_count": 45,
   "id": "895e3d10-ecd6-42b7-a263-f5c2c6bf1aa8",
   "metadata": {},
   "outputs": [],
   "source": [
    "df3=pd.read_csv('GT_NumberRanges.csv')"
   ]
  },
  {
   "cell_type": "code",
   "execution_count": 46,
   "id": "fea42007-57f0-4a54-b873-dff7ed2c9f42",
   "metadata": {},
   "outputs": [],
   "source": [
    "df_merge=pd.concat([df1,df2,df3])"
   ]
  },
  {
   "cell_type": "markdown",
   "id": "a4759260-1d94-4585-a11c-82c25a4333f6",
   "metadata": {},
   "source": [
    "The total merge file look like the combination of dataframe"
   ]
  },
  {
   "cell_type": "code",
   "execution_count": 47,
   "id": "5baaf5d5-c798-4560-9d16-099f5323bcea",
   "metadata": {},
   "outputs": [
    {
     "data": {
      "text/html": [
       "<div>\n",
       "<style scoped>\n",
       "    .dataframe tbody tr th:only-of-type {\n",
       "        vertical-align: middle;\n",
       "    }\n",
       "\n",
       "    .dataframe tbody tr th {\n",
       "        vertical-align: top;\n",
       "    }\n",
       "\n",
       "    .dataframe thead th {\n",
       "        text-align: right;\n",
       "    }\n",
       "</style>\n",
       "<table border=\"1\" class=\"dataframe\">\n",
       "  <thead>\n",
       "    <tr style=\"text-align: right;\">\n",
       "      <th></th>\n",
       "      <th>TADIG Code</th>\n",
       "      <th>CC</th>\n",
       "      <th>NDC</th>\n",
       "      <th>range_start</th>\n",
       "      <th>range_end</th>\n",
       "    </tr>\n",
       "  </thead>\n",
       "  <tbody>\n",
       "    <tr>\n",
       "      <th>0</th>\n",
       "      <td>SWEEP</td>\n",
       "      <td>46</td>\n",
       "      <td>71</td>\n",
       "      <td>933000</td>\n",
       "      <td>933999</td>\n",
       "    </tr>\n",
       "    <tr>\n",
       "      <th>1</th>\n",
       "      <td>SWEEP</td>\n",
       "      <td>46</td>\n",
       "      <td>72</td>\n",
       "      <td>870000</td>\n",
       "      <td>879999</td>\n",
       "    </tr>\n",
       "    <tr>\n",
       "      <th>2</th>\n",
       "      <td>SWEEP</td>\n",
       "      <td>46</td>\n",
       "      <td>708</td>\n",
       "      <td>0</td>\n",
       "      <td>999999</td>\n",
       "    </tr>\n",
       "    <tr>\n",
       "      <th>3</th>\n",
       "      <td>SWEEP</td>\n",
       "      <td>46</td>\n",
       "      <td>709</td>\n",
       "      <td>0</td>\n",
       "      <td>999999</td>\n",
       "    </tr>\n",
       "    <tr>\n",
       "      <th>4</th>\n",
       "      <td>SWEEP</td>\n",
       "      <td>46</td>\n",
       "      <td>733</td>\n",
       "      <td>0</td>\n",
       "      <td>999999</td>\n",
       "    </tr>\n",
       "    <tr>\n",
       "      <th>...</th>\n",
       "      <td>...</td>\n",
       "      <td>...</td>\n",
       "      <td>...</td>\n",
       "      <td>...</td>\n",
       "      <td>...</td>\n",
       "    </tr>\n",
       "    <tr>\n",
       "      <th>0</th>\n",
       "      <td>SWEEP</td>\n",
       "      <td>46</td>\n",
       "      <td>708</td>\n",
       "      <td>0</td>\n",
       "      <td>999999</td>\n",
       "    </tr>\n",
       "    <tr>\n",
       "      <th>1</th>\n",
       "      <td>SWETG</td>\n",
       "      <td>46</td>\n",
       "      <td>72390</td>\n",
       "      <td>0</td>\n",
       "      <td>9999</td>\n",
       "    </tr>\n",
       "    <tr>\n",
       "      <th>2</th>\n",
       "      <td>SWETG</td>\n",
       "      <td>46</td>\n",
       "      <td>7244</td>\n",
       "      <td>0</td>\n",
       "      <td>99999</td>\n",
       "    </tr>\n",
       "    <tr>\n",
       "      <th>3</th>\n",
       "      <td>SWECN</td>\n",
       "      <td>46</td>\n",
       "      <td>731</td>\n",
       "      <td>260000</td>\n",
       "      <td>269999</td>\n",
       "    </tr>\n",
       "    <tr>\n",
       "      <th>4</th>\n",
       "      <td>AAZTC</td>\n",
       "      <td>883</td>\n",
       "      <td>120</td>\n",
       "      <td>0</td>\n",
       "      <td>999999</td>\n",
       "    </tr>\n",
       "  </tbody>\n",
       "</table>\n",
       "<p>240 rows × 5 columns</p>\n",
       "</div>"
      ],
      "text/plain": [
       "   TADIG Code   CC    NDC  range_start  range_end\n",
       "0       SWEEP   46     71       933000     933999\n",
       "1       SWEEP   46     72       870000     879999\n",
       "2       SWEEP   46    708            0     999999\n",
       "3       SWEEP   46    709            0     999999\n",
       "4       SWEEP   46    733            0     999999\n",
       "..        ...  ...    ...          ...        ...\n",
       "0       SWEEP   46    708            0     999999\n",
       "1       SWETG   46  72390            0       9999\n",
       "2       SWETG   46   7244            0      99999\n",
       "3       SWECN   46    731       260000     269999\n",
       "4       AAZTC  883    120            0     999999\n",
       "\n",
       "[240 rows x 5 columns]"
      ]
     },
     "execution_count": 47,
     "metadata": {},
     "output_type": "execute_result"
    }
   ],
   "source": [
    "df_merge"
   ]
  },
  {
   "cell_type": "markdown",
   "id": "dcbc2584-4bf0-4803-871d-7dd0822204e7",
   "metadata": {},
   "source": [
    "Note:-The final data set is a join of the mss_code and the df_merge csv file"
   ]
  },
  {
   "cell_type": "code",
   "execution_count": 49,
   "id": "3c7ea778-d4b4-4160-9ebf-eee7c41f1c0b",
   "metadata": {},
   "outputs": [],
   "source": [
    "df=pd.read_csv('mss_code.csv')"
   ]
  },
  {
   "cell_type": "code",
   "execution_count": 65,
   "id": "e41a8c72-78c8-4d79-8978-cac752b61dc4",
   "metadata": {},
   "outputs": [],
   "source": [
    "final_data_set = pd.merge(right=df_merge,left=df,left_on='TADIG Code',right_on='TADIG Code')"
   ]
  },
  {
   "cell_type": "code",
   "execution_count": 66,
   "id": "7faec0ea-89f6-4efa-88a0-ad96e76d4970",
   "metadata": {},
   "outputs": [],
   "source": [
    "final_data_set.drop(columns='TADIG Code',inplace=True)"
   ]
  },
  {
   "cell_type": "code",
   "execution_count": 67,
   "id": "e5c531da-78b4-41dc-8732-38bf5f81cc11",
   "metadata": {},
   "outputs": [],
   "source": [
    "final_data_set.to_csv('final.csv')"
   ]
  },
  {
   "cell_type": "code",
   "execution_count": null,
   "id": "dde9d903-3018-4708-85e6-06988e02a564",
   "metadata": {},
   "outputs": [],
   "source": []
  }
 ],
 "metadata": {
  "kernelspec": {
   "display_name": "Python 3 (ipykernel)",
   "language": "python",
   "name": "python3"
  },
  "language_info": {
   "codemirror_mode": {
    "name": "ipython",
    "version": 3
   },
   "file_extension": ".py",
   "mimetype": "text/x-python",
   "name": "python",
   "nbconvert_exporter": "python",
   "pygments_lexer": "ipython3",
   "version": "3.11.4"
  }
 },
 "nbformat": 4,
 "nbformat_minor": 5
}
